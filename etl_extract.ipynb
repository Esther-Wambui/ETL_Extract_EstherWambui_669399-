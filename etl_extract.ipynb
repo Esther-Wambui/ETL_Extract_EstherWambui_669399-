{
 "cells": [
  {
   "cell_type": "code",
   "execution_count": null,
   "id": "88e946c9",
   "metadata": {},
   "outputs": [],
   "source": []
  }
 ],
 "metadata": {
  "language_info": {
   "name": "python"
  }
 },
 "nbformat": 4,
 "nbformat_minor": 5
}
