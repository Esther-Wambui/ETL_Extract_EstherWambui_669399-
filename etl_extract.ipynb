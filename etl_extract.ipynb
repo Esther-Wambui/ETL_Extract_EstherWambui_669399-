{
 "cells": [
  {
   "cell_type": "markdown",
   "id": "41253412",
   "metadata": {},
   "source": [
    "## 1.LOADING DATA SETS\n"
   ]
  },
  {
   "cell_type": "code",
   "execution_count": 155,
   "id": "133885be",
   "metadata": {},
   "outputs": [],
   "source": [
    "import pandas as pd\n",
    "\n",
    "#Loaded the dataset \n",
    "df = pd.read_csv(\"sales_data_sample.csv\", encoding='latin1') #used latin1 to avoid UnicodeDecodeError"
   ]
  },
  {
   "cell_type": "markdown",
   "id": "0f650b05",
   "metadata": {},
   "source": [
    "## 2.DISPLAYING BASIC STATS(rows and columns)"
   ]
  },
  {
   "cell_type": "code",
   "execution_count": 156,
   "id": "c54c6961",
   "metadata": {},
   "outputs": [
    {
     "name": "stdout",
     "output_type": "stream",
     "text": [
      " Statistics:\n",
      "Number of rows: 2823\n",
      "Number of columns: 25\n"
     ]
    }
   ],
   "source": [
    "print(\" Statistics:\")\n",
    "print(f\"Number of rows: {df.shape[0]}\")\n",
    "print(f\"Number of columns: {df.shape[1]}\")"
   ]
  },
  {
   "cell_type": "markdown",
   "id": "34f3633a",
   "metadata": {},
   "source": [
    "## 3.DISPLAYING SAMPLE OF THE DATA"
   ]
  },
  {
   "cell_type": "code",
   "execution_count": 157,
   "id": "daa4ab2c",
   "metadata": {},
   "outputs": [
    {
     "name": "stdout",
     "output_type": "stream",
     "text": [
      "\n",
      "📝 Sample Data:\n",
      "    ORDERNUMBER  QUANTITYORDERED  PRICEEACH  ORDERLINENUMBER     SALES  \\\n",
      "0         10107               30      95.70                2   2871.00   \n",
      "1         10121               34      81.35                5   2765.90   \n",
      "2         10134               41      94.74                2   3884.34   \n",
      "3         10145               45      83.26                6   3746.70   \n",
      "4         10159               49     100.00               14   5205.27   \n",
      "5         10168               36      96.66                1   3479.76   \n",
      "6         10180               29      86.13                9   2497.77   \n",
      "7         10188               48     100.00                1   5512.32   \n",
      "8         10201               22      98.57                2   2168.54   \n",
      "9         10211               41     100.00               14   4708.44   \n",
      "10        10223               37     100.00                1   3965.66   \n",
      "11        10237               23     100.00                7   2333.12   \n",
      "12        10251               28     100.00                2   3188.64   \n",
      "13        10263               34     100.00                2   3676.76   \n",
      "14        10275               45      92.83                1   4177.35   \n",
      "15        10285               36     100.00                6   4099.68   \n",
      "16        10299               23     100.00                9   2597.39   \n",
      "17        10309               41     100.00                5   4394.38   \n",
      "18        10318               46      94.74                1   4358.04   \n",
      "19        10329               42     100.00                1   4396.14   \n",
      "20        10341               41     100.00                9   7737.93   \n",
      "21        10361               20      72.55               13   1451.00   \n",
      "22        10375               21      34.91               12    733.11   \n",
      "23        10388               42      76.36                4   3207.12   \n",
      "24        10403               24     100.00                7   2434.56   \n",
      "25        10417               66     100.00                2   7516.08   \n",
      "26        10103               26     100.00               11   5404.62   \n",
      "27        10112               29     100.00                1   7209.11   \n",
      "28        10126               38     100.00               11   7329.06   \n",
      "29        10140               37     100.00               11   7374.10   \n",
      "30        10150               45     100.00                8  10993.50   \n",
      "31        10163               21     100.00                1   4860.24   \n",
      "32        10174               34     100.00                4   8014.82   \n",
      "33        10183               23     100.00                8   5372.57   \n",
      "34        10194               42     100.00               11   7290.36   \n",
      "35        10206               47     100.00                6   9064.89   \n",
      "36        10215               35     100.00                3   6075.30   \n",
      "37        10228               29     100.00                2   6463.23   \n",
      "38        10245               34     100.00                9   6120.34   \n",
      "39        10258               32     100.00                6   7680.64   \n",
      "40        10270               21     100.00                9   4905.39   \n",
      "41        10280               34     100.00                2   8014.82   \n",
      "42        10291               37     100.00               11   7136.19   \n",
      "43        10304               47     100.00                6  10172.70   \n",
      "44        10312               48     100.00                3  11623.70   \n",
      "45        10322               40     100.00                1   6000.40   \n",
      "46        10333               26     100.00                3   3003.00   \n",
      "47        10347               30     100.00                1   3944.70   \n",
      "48        10357               32     100.00               10   5691.84   \n",
      "49        10369               41     100.00                2   4514.92   \n",
      "\n",
      "          ORDERDATE    STATUS  QTR_ID  MONTH_ID  YEAR_ID  ...  \\\n",
      "0    2/24/2003 0:00   Shipped       1         2     2003  ...   \n",
      "1     5/7/2003 0:00   Shipped       2         5     2003  ...   \n",
      "2     7/1/2003 0:00   Shipped       3         7     2003  ...   \n",
      "3    8/25/2003 0:00   Shipped       3         8     2003  ...   \n",
      "4   10/10/2003 0:00   Shipped       4        10     2003  ...   \n",
      "5   10/28/2003 0:00   Shipped       4        10     2003  ...   \n",
      "6   11/11/2003 0:00   Shipped       4        11     2003  ...   \n",
      "7   11/18/2003 0:00   Shipped       4        11     2003  ...   \n",
      "8    12/1/2003 0:00   Shipped       4        12     2003  ...   \n",
      "9    1/15/2004 0:00   Shipped       1         1     2004  ...   \n",
      "10   2/20/2004 0:00   Shipped       1         2     2004  ...   \n",
      "11    4/5/2004 0:00   Shipped       2         4     2004  ...   \n",
      "12   5/18/2004 0:00   Shipped       2         5     2004  ...   \n",
      "13   6/28/2004 0:00   Shipped       2         6     2004  ...   \n",
      "14   7/23/2004 0:00   Shipped       3         7     2004  ...   \n",
      "15   8/27/2004 0:00   Shipped       3         8     2004  ...   \n",
      "16   9/30/2004 0:00   Shipped       3         9     2004  ...   \n",
      "17  10/15/2004 0:00   Shipped       4        10     2004  ...   \n",
      "18   11/2/2004 0:00   Shipped       4        11     2004  ...   \n",
      "19  11/15/2004 0:00   Shipped       4        11     2004  ...   \n",
      "20  11/24/2004 0:00   Shipped       4        11     2004  ...   \n",
      "21  12/17/2004 0:00   Shipped       4        12     2004  ...   \n",
      "22    2/3/2005 0:00   Shipped       1         2     2005  ...   \n",
      "23    3/3/2005 0:00   Shipped       1         3     2005  ...   \n",
      "24    4/8/2005 0:00   Shipped       2         4     2005  ...   \n",
      "25   5/13/2005 0:00  Disputed       2         5     2005  ...   \n",
      "26   1/29/2003 0:00   Shipped       1         1     2003  ...   \n",
      "27   3/24/2003 0:00   Shipped       1         3     2003  ...   \n",
      "28   5/28/2003 0:00   Shipped       2         5     2003  ...   \n",
      "29   7/24/2003 0:00   Shipped       3         7     2003  ...   \n",
      "30   9/19/2003 0:00   Shipped       3         9     2003  ...   \n",
      "31  10/20/2003 0:00   Shipped       4        10     2003  ...   \n",
      "32   11/6/2003 0:00   Shipped       4        11     2003  ...   \n",
      "33  11/13/2003 0:00   Shipped       4        11     2003  ...   \n",
      "34  11/25/2003 0:00   Shipped       4        11     2003  ...   \n",
      "35   12/5/2003 0:00   Shipped       4        12     2003  ...   \n",
      "36   1/29/2004 0:00   Shipped       1         1     2004  ...   \n",
      "37   3/10/2004 0:00   Shipped       1         3     2004  ...   \n",
      "38    5/4/2004 0:00   Shipped       2         5     2004  ...   \n",
      "39   6/15/2004 0:00   Shipped       2         6     2004  ...   \n",
      "40   7/19/2004 0:00   Shipped       3         7     2004  ...   \n",
      "41   8/17/2004 0:00   Shipped       3         8     2004  ...   \n",
      "42    9/8/2004 0:00   Shipped       3         9     2004  ...   \n",
      "43  10/11/2004 0:00   Shipped       4        10     2004  ...   \n",
      "44  10/21/2004 0:00   Shipped       4        10     2004  ...   \n",
      "45   11/4/2004 0:00   Shipped       4        11     2004  ...   \n",
      "46  11/18/2004 0:00   Shipped       4        11     2004  ...   \n",
      "47  11/29/2004 0:00   Shipped       4        11     2004  ...   \n",
      "48  12/10/2004 0:00   Shipped       4        12     2004  ...   \n",
      "49   1/20/2005 0:00   Shipped       1         1     2005  ...   \n",
      "\n",
      "                               ADDRESSLINE1  ADDRESSLINE2            CITY  \\\n",
      "0                   897 Long Airport Avenue           NaN             NYC   \n",
      "1                        59 rue de l'Abbaye           NaN           Reims   \n",
      "2             27 rue du Colonel Pierre Avia           NaN           Paris   \n",
      "3                        78934 Hillside Dr.           NaN        Pasadena   \n",
      "4                           7734 Strong St.           NaN   San Francisco   \n",
      "5                         9408 Furth Circle           NaN      Burlingame   \n",
      "6                   184, chausse de Tournai           NaN           Lille   \n",
      "7               Drammen 121, PR 744 Sentrum           NaN          Bergen   \n",
      "8                 5557 North Pendale Street           NaN   San Francisco   \n",
      "9                         25, rue Lauriston           NaN           Paris   \n",
      "10                        636 St Kilda Road       Level 3       Melbourne   \n",
      "11                        2678 Kingston Rd.     Suite 101             NYC   \n",
      "12                            7476 Moss Rd.           NaN          Newark   \n",
      "13                      25593 South Bay Ln.           NaN     Bridgewater   \n",
      "14             67, rue des Cinquante Otages           NaN          Nantes   \n",
      "15                      39323 Spinnaker Dr.           NaN       Cambridge   \n",
      "16                            Keskuskatu 45           NaN        Helsinki   \n",
      "17                   Erling Skakkes gate 78           NaN         Stavern   \n",
      "18                         7586 Pompton St.           NaN       Allentown   \n",
      "19                  897 Long Airport Avenue           NaN             NYC   \n",
      "20                              Geislweg 14           NaN        Salzburg   \n",
      "21  Monitor Money Building, 815 Pacific Hwy       Level 6       Chatswood   \n",
      "22             67, rue des Cinquante Otages           NaN          Nantes   \n",
      "23                        1785 First Street           NaN     New Bedford   \n",
      "24             Berkeley Gardens 12  Brewery           NaN       Liverpool   \n",
      "25                       C/ Moralzarzal, 86           NaN          Madrid   \n",
      "26                   Erling Skakkes gate 78           NaN         Stavern   \n",
      "27                          Berguvsvgen  8           NaN            Lule   \n",
      "28                           C/ Araquil, 67           NaN          Madrid   \n",
      "29                        9408 Furth Circle           NaN      Burlingame   \n",
      "30     Bronz Sok., Bronz Apt. 3/6 Tesvikiye           NaN       Singapore   \n",
      "31                         5905 Pompton St.     Suite 750             NYC   \n",
      "32                   31 Duncan St. West End           NaN  South Brisbane   \n",
      "33                         782 First Street           NaN    Philadelphia   \n",
      "34                       2, rue du Commerce           NaN            Lyon   \n",
      "35                             1900 Oak St.           NaN       Vancouver   \n",
      "36                        3675 Furth Circle           NaN         Burbank   \n",
      "37                           4658 Baden Av.           NaN       Cambridge   \n",
      "38                 567 North Pendale Street           NaN       New Haven   \n",
      "39                           2-2-8 Roppongi           NaN       Minato-ku   \n",
      "40  Monitor Money Building, 815 Pacific Hwy       Level 6       Chatswood   \n",
      "41                      Via Monte Bianco 34           NaN          Torino   \n",
      "42                             ?kergatan 24           NaN           Boras   \n",
      "43                   67, avenue de l'Europe           NaN      Versailles   \n",
      "44                          5677 Strong St.           NaN      San Rafael   \n",
      "45                 2304 Long Airport Avenue           NaN          Nashua   \n",
      "46                5557 North Pendale Street           NaN   San Francisco   \n",
      "47                        636 St Kilda Road       Level 3       Melbourne   \n",
      "48                          5677 Strong St.           NaN      San Rafael   \n",
      "49                         7825 Douglas Av.           NaN      Brickhaven   \n",
      "\n",
      "         STATE POSTALCODE    COUNTRY TERRITORY CONTACTLASTNAME  \\\n",
      "0           NY      10022        USA       NaN              Yu   \n",
      "1          NaN      51100     France      EMEA         Henriot   \n",
      "2          NaN      75508     France      EMEA        Da Cunha   \n",
      "3           CA      90003        USA       NaN           Young   \n",
      "4           CA        NaN        USA       NaN           Brown   \n",
      "5           CA      94217        USA       NaN          Hirano   \n",
      "6          NaN      59000     France      EMEA           Rance   \n",
      "7          NaN     N 5804     Norway      EMEA          Oeztan   \n",
      "8           CA        NaN        USA       NaN          Murphy   \n",
      "9          NaN      75016     France      EMEA         Perrier   \n",
      "10    Victoria       3004  Australia      APAC        Ferguson   \n",
      "11          NY      10022        USA       NaN           Frick   \n",
      "12          NJ      94019        USA       NaN           Brown   \n",
      "13          CT      97562        USA       NaN            King   \n",
      "14         NaN      44000     France      EMEA         Labrune   \n",
      "15          MA      51247        USA       NaN       Hernandez   \n",
      "16         NaN      21240    Finland      EMEA       Karttunen   \n",
      "17         NaN       4110     Norway      EMEA      Bergulfsen   \n",
      "18          PA      70267        USA       NaN              Yu   \n",
      "19          NY      10022        USA       NaN              Yu   \n",
      "20         NaN       5020    Austria      EMEA           Pipps   \n",
      "21         NSW       2067  Australia      APAC          Huxley   \n",
      "22         NaN      44000     France      EMEA         Labrune   \n",
      "23          MA      50553        USA       NaN         Benitez   \n",
      "24         NaN    WX1 6LT         UK      EMEA           Devon   \n",
      "25         NaN      28034      Spain      EMEA          Freyre   \n",
      "26         NaN       4110     Norway      EMEA      Bergulfsen   \n",
      "27         NaN   S-958 22     Sweden      EMEA        Berglund   \n",
      "28         NaN      28023      Spain      EMEA          Sommer   \n",
      "29          CA      94217        USA       NaN          Hirano   \n",
      "30         NaN      79903  Singapore     Japan       Natividad   \n",
      "31          NY      10022        USA       NaN       Hernandez   \n",
      "32  Queensland       4101  Australia      APAC        Calaghan   \n",
      "33          PA      71270        USA       NaN       Cervantes   \n",
      "34         NaN      69004     France      EMEA         Saveley   \n",
      "35          BC    V3F 2K1     Canada       NaN       Tannamuri   \n",
      "36          CA      94019        USA       NaN        Thompson   \n",
      "37          MA      51247        USA       NaN           Tseng   \n",
      "38          CT      97823        USA       NaN          Murphy   \n",
      "39       Tokyo   106-0032      Japan     Japan       Shimamura   \n",
      "40         NSW       2067  Australia      APAC          Huxley   \n",
      "41         NaN      10100      Italy      EMEA         Accorti   \n",
      "42         NaN   S-844 67     Sweden      EMEA         Larsson   \n",
      "43         NaN      78000     France      EMEA          Tonini   \n",
      "44          CA      97562        USA       NaN          Nelson   \n",
      "45          NH      62005        USA       NaN           Young   \n",
      "46          CA        NaN        USA       NaN          Murphy   \n",
      "47    Victoria       3004  Australia      APAC        Ferguson   \n",
      "48          CA      97562        USA       NaN          Nelson   \n",
      "49          MA      58339        USA       NaN          Nelson   \n",
      "\n",
      "   CONTACTFIRSTNAME DEALSIZE  \n",
      "0              Kwai    Small  \n",
      "1              Paul    Small  \n",
      "2            Daniel   Medium  \n",
      "3             Julie   Medium  \n",
      "4             Julie   Medium  \n",
      "5              Juri   Medium  \n",
      "6           Martine    Small  \n",
      "7            Veysel   Medium  \n",
      "8             Julie    Small  \n",
      "9         Dominique   Medium  \n",
      "10            Peter   Medium  \n",
      "11          Michael    Small  \n",
      "12          William   Medium  \n",
      "13            Julie   Medium  \n",
      "14           Janine   Medium  \n",
      "15            Marta   Medium  \n",
      "16            Matti    Small  \n",
      "17            Jonas   Medium  \n",
      "18            Kyung   Medium  \n",
      "19             Kwai   Medium  \n",
      "20            Georg    Large  \n",
      "21           Adrian    Small  \n",
      "22           Janine    Small  \n",
      "23          Violeta   Medium  \n",
      "24        Elizabeth    Small  \n",
      "25            Diego    Large  \n",
      "26            Jonas   Medium  \n",
      "27        Christina    Large  \n",
      "28           Mart¡n    Large  \n",
      "29             Juri    Large  \n",
      "30             Eric    Large  \n",
      "31            Maria   Medium  \n",
      "32             Tony    Large  \n",
      "33        Francisca   Medium  \n",
      "34             Mary    Large  \n",
      "35            Yoshi    Large  \n",
      "36            Steve   Medium  \n",
      "37            Kyung   Medium  \n",
      "38           Leslie   Medium  \n",
      "39            Akiko    Large  \n",
      "40           Adrian   Medium  \n",
      "41            Paolo    Large  \n",
      "42            Maria    Large  \n",
      "43           Daniel    Large  \n",
      "44          Valarie    Large  \n",
      "45          Valarie   Medium  \n",
      "46            Julie   Medium  \n",
      "47            Peter   Medium  \n",
      "48          Valarie   Medium  \n",
      "49            Allen   Medium  \n",
      "\n",
      "[50 rows x 25 columns]\n"
     ]
    }
   ],
   "source": [
    "print(\"\\n📝 Sample Data:\")\n",
    "print(df.head(50))#50 rows of the dataset"
   ]
  },
  {
   "cell_type": "markdown",
   "id": "c6c1cb92",
   "metadata": {},
   "source": [
    "## 5. FULL EXTRACTION"
   ]
  },
  {
   "cell_type": "code",
   "execution_count": 158,
   "id": "967a2d15",
   "metadata": {},
   "outputs": [
    {
     "name": "stdout",
     "output_type": "stream",
     "text": [
      " Extracted 2823 rows fully.\n"
     ]
    }
   ],
   "source": [
    "print(f\" Extracted {df.shape[0]} rows fully.\")\n"
   ]
  },
  {
   "cell_type": "markdown",
   "id": "a3fe683e",
   "metadata": {},
   "source": [
    "extracted the whole datasets data"
   ]
  },
  {
   "cell_type": "markdown",
   "id": "c638d7e7",
   "metadata": {},
   "source": [
    "## 6. INCREMENTAL EXTRACTION"
   ]
  },
  {
   "cell_type": "markdown",
   "id": "2cbc7482",
   "metadata": {},
   "source": [
    "#### A. READING LAST_EXTRACTION.TXT"
   ]
  },
  {
   "cell_type": "code",
   "execution_count": 159,
   "id": "d0b03d93",
   "metadata": {},
   "outputs": [
    {
     "name": "stdout",
     "output_type": "stream",
     "text": [
      "Last extraction was on: 2005-05-31 00:00:00\n"
     ]
    }
   ],
   "source": [
    "with open(\"last_extraction.txt\", \"r\") as file:#read last extraction time from file\n",
    "    last_extraction = file.read().strip()\n",
    "\n",
    "last_extraction_time = pd.to_datetime(last_extraction)#converted to datetime format\n",
    "\n",
    "print(f\"Last extraction was on: {last_extraction_time}\")\n"
   ]
  },
  {
   "cell_type": "markdown",
   "id": "a7906446",
   "metadata": {},
   "source": [
    "#### B. EXTRACTING  ONLY RECORDS WITH ORDER DATE > LAST EXTRACTION TIME"
   ]
  },
  {
   "cell_type": "code",
   "execution_count": 160,
   "id": "5aa6e59b",
   "metadata": {},
   "outputs": [
    {
     "name": "stdout",
     "output_type": "stream",
     "text": [
      "Index(['ORDERNUMBER', 'QUANTITYORDERED', 'PRICEEACH', 'ORDERLINENUMBER',\n",
      "       'SALES', 'ORDERDATE', 'STATUS', 'QTR_ID', 'MONTH_ID', 'YEAR_ID',\n",
      "       'PRODUCTLINE', 'MSRP', 'PRODUCTCODE', 'CUSTOMERNAME', 'PHONE',\n",
      "       'ADDRESSLINE1', 'ADDRESSLINE2', 'CITY', 'STATE', 'POSTALCODE',\n",
      "       'COUNTRY', 'TERRITORY', 'CONTACTLASTNAME', 'CONTACTFIRSTNAME',\n",
      "       'DEALSIZE'],\n",
      "      dtype='object')\n"
     ]
    }
   ],
   "source": [
    "# Reload the dataset again\n",
    "df_full = pd.read_csv(\"sales_data_sample.csv\", encoding='latin1')\n",
    "print(df_full.columns)#to get the column names for the orderdate"
   ]
  },
  {
   "cell_type": "code",
   "execution_count": 161,
   "id": "b4954edf",
   "metadata": {},
   "outputs": [
    {
     "name": "stdout",
     "output_type": "stream",
     "text": [
      "Extracted 0 rows incrementally since last check.\n"
     ]
    },
    {
     "data": {
      "text/html": [
       "<div>\n",
       "<style scoped>\n",
       "    .dataframe tbody tr th:only-of-type {\n",
       "        vertical-align: middle;\n",
       "    }\n",
       "\n",
       "    .dataframe tbody tr th {\n",
       "        vertical-align: top;\n",
       "    }\n",
       "\n",
       "    .dataframe thead th {\n",
       "        text-align: right;\n",
       "    }\n",
       "</style>\n",
       "<table border=\"1\" class=\"dataframe\">\n",
       "  <thead>\n",
       "    <tr style=\"text-align: right;\">\n",
       "      <th></th>\n",
       "      <th>ORDERNUMBER</th>\n",
       "      <th>QUANTITYORDERED</th>\n",
       "      <th>PRICEEACH</th>\n",
       "      <th>ORDERLINENUMBER</th>\n",
       "      <th>SALES</th>\n",
       "      <th>ORDERDATE</th>\n",
       "      <th>STATUS</th>\n",
       "      <th>QTR_ID</th>\n",
       "      <th>MONTH_ID</th>\n",
       "      <th>YEAR_ID</th>\n",
       "      <th>...</th>\n",
       "      <th>ADDRESSLINE1</th>\n",
       "      <th>ADDRESSLINE2</th>\n",
       "      <th>CITY</th>\n",
       "      <th>STATE</th>\n",
       "      <th>POSTALCODE</th>\n",
       "      <th>COUNTRY</th>\n",
       "      <th>TERRITORY</th>\n",
       "      <th>CONTACTLASTNAME</th>\n",
       "      <th>CONTACTFIRSTNAME</th>\n",
       "      <th>DEALSIZE</th>\n",
       "    </tr>\n",
       "  </thead>\n",
       "  <tbody>\n",
       "  </tbody>\n",
       "</table>\n",
       "<p>0 rows × 25 columns</p>\n",
       "</div>"
      ],
      "text/plain": [
       "Empty DataFrame\n",
       "Columns: [ORDERNUMBER, QUANTITYORDERED, PRICEEACH, ORDERLINENUMBER, SALES, ORDERDATE, STATUS, QTR_ID, MONTH_ID, YEAR_ID, PRODUCTLINE, MSRP, PRODUCTCODE, CUSTOMERNAME, PHONE, ADDRESSLINE1, ADDRESSLINE2, CITY, STATE, POSTALCODE, COUNTRY, TERRITORY, CONTACTLASTNAME, CONTACTFIRSTNAME, DEALSIZE]\n",
       "Index: []\n",
       "\n",
       "[0 rows x 25 columns]"
      ]
     },
     "execution_count": 161,
     "metadata": {},
     "output_type": "execute_result"
    }
   ],
   "source": [
    "df_full = pd.read_csv(\"sales_data_sample.csv\", parse_dates=[\"ORDERDATE\"], encoding='latin1')\n",
    "# Now filter for incremental extraction using correct column name\n",
    "df_incremental = df_full[df_full[\"ORDERDATE\"] > last_extraction_time]\n",
    "print(f\"Extracted {len(df_incremental)} rows incrementally since last check.\")\n",
    "df_incremental.head()\n",
    "#we just want to see if any rows were extracted after the last extraction"
   ]
  },
  {
   "cell_type": "markdown",
   "id": "46af530b",
   "metadata": {},
   "source": [
    "READ LAST EXTRACTION  BELOW"
   ]
  },
  {
   "cell_type": "code",
   "execution_count": 162,
   "id": "6b4a7133",
   "metadata": {},
   "outputs": [
    {
     "name": "stdout",
     "output_type": "stream",
     "text": [
      "Last extraction was on: 2005-05-31 00:00:00\n"
     ]
    }
   ],
   "source": [
    "import pandas as pd\n",
    "\n",
    "# Read last extraction time from file\n",
    "with open(\"last_extraction.txt\", \"r\") as f:\n",
    "    last_extraction_str = f.read().strip()\n",
    "\n",
    "last_extraction_time = pd.to_datetime(last_extraction_str)\n",
    "print(\"Last extraction was on:\", last_extraction_time)"
   ]
  },
  {
   "cell_type": "markdown",
   "id": "d0cc0332",
   "metadata": {},
   "source": [
    "### C. SAVING THE NEW TIMESTAMP"
   ]
  },
  {
   "cell_type": "code",
   "execution_count": 163,
   "id": "dcaa4af2",
   "metadata": {},
   "outputs": [
    {
     "name": "stdout",
     "output_type": "stream",
     "text": [
      "No new records found. Last extraction timestamp remains unchanged.\n"
     ]
    }
   ],
   "source": [
    "if not df_incremental.empty:\n",
    "    newest_time = df_incremental[\"ORDERDATE\"].max() #Finding the latest ORDERDATE in the incremental data\n",
    "    with open(\"last_extraction.txt\", \"w\") as f:\n",
    "        f.write(str(newest_time))#Saved this newest_time as the new last extraction timestamp\n",
    "\n",
    "    print(f\"Updated last_extraction.txt to {newest_time}\")\n",
    "else:\n",
    "    print(\"No new records found. Last extraction timestamp remains unchanged.\")\n"
   ]
  }
 ],
 "metadata": {
  "kernelspec": {
   "display_name": "Python 3",
   "language": "python",
   "name": "python3"
  },
  "language_info": {
   "codemirror_mode": {
    "name": "ipython",
    "version": 3
   },
   "file_extension": ".py",
   "mimetype": "text/x-python",
   "name": "python",
   "nbconvert_exporter": "python",
   "pygments_lexer": "ipython3",
   "version": "3.12.10"
  }
 },
 "nbformat": 4,
 "nbformat_minor": 5
}
